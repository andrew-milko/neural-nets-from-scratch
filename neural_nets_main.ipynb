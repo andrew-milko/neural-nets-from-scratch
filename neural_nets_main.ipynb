{
 "cells": [
  {
   "cell_type": "code",
   "execution_count": 627,
   "id": "6914da16",
   "metadata": {},
   "outputs": [],
   "source": [
    "from sklearn.preprocessing import LabelBinarizer\n",
    "from sklearn.model_selection import train_test_split\n",
    "from matplotlib import pyplot as plt\n",
    "from tqdm import tqdm\n",
    "\n",
    "from sklearn.datasets import fetch_california_housing\n",
    "from sklearn.datasets import fetch_openml\n",
    "\n",
    "import numpy as np\n",
    "\n",
    "import torch\n",
    "from torch import nn\n",
    "\n",
    "import tensorflow as tf\n",
    "from tensorflow import keras"
   ]
  },
  {
   "cell_type": "markdown",
   "id": "a0b10161",
   "metadata": {},
   "source": [
    "# `Own Neural Net (ONN)`\n",
    "___"
   ]
  },
  {
   "cell_type": "code",
   "execution_count": 628,
   "id": "f147aa44",
   "metadata": {},
   "outputs": [],
   "source": [
    "class Layer_Dense:\n",
    "    \n",
    "    # Layer initialization\n",
    "    def __init__(self, n_inputs, n_neurons):\n",
    "        # Initialize weights and biases\n",
    "        self.weights = 0.01 * np.random.randn(n_inputs, n_neurons)\n",
    "        self.biases = np.zeros((1, n_neurons))\n",
    "    \n",
    "    # Forward pass\n",
    "    def forward(self, inputs):       \n",
    "        # Remember input values\n",
    "        self.inputs = inputs\n",
    "        \n",
    "        # Calculate output values from inputs, weights and biases\n",
    "        self.output = (inputs @ self.weights) + self.biases\n",
    "    \n",
    "    # Backward pass\n",
    "    def backward(self, dvalues):\n",
    "        # Gradients on parameters\n",
    "        self.dweights = np.dot(self.inputs.T, dvalues)\n",
    "        self.dbiases = np.sum(dvalues, axis=0, keepdims=True)\n",
    "        \n",
    "        # Gradient on values\n",
    "        self.dinputs = np.dot(dvalues, self.weights.T)"
   ]
  },
  {
   "cell_type": "code",
   "execution_count": 629,
   "id": "a65c5ff4",
   "metadata": {},
   "outputs": [],
   "source": [
    "class Activation_ReLU:\n",
    "    \n",
    "    # Forward pass\n",
    "    def forward(self, inputs):\n",
    "        # Remember input values\n",
    "        self.inputs = inputs\n",
    "        \n",
    "        # Calculate output values from inputs\n",
    "        self.output = np.maximum(0, inputs)\n",
    "    \n",
    "    # Backward pass\n",
    "    def backward(self, dvalues):    \n",
    "        # Since we need to modify the original variable,\n",
    "        # let's make a copy of the values first\n",
    "        self.dinputs = dvalues.copy()\n",
    "        \n",
    "        # Zero gradient where input values were negative\n",
    "        self.dinputs[self.inputs <= 0] = 0 "
   ]
  },
  {
   "cell_type": "code",
   "execution_count": 630,
   "id": "43fef1aa",
   "metadata": {},
   "outputs": [],
   "source": [
    "class Activation_Sigmoid:\n",
    "    \n",
    "    # Forward pass\n",
    "    def forward(self, inputs):\n",
    "        # Save input and calculate/save output\n",
    "        # of the sigmoid function\n",
    "        self.inputs = inputs\n",
    "        self.output = 1 / (1 + np.exp(-inputs))\n",
    "        \n",
    "    # Backward pass\n",
    "    def backward(self, dvalues):\n",
    "        # Derivative - calculates from output of the sigmoid function\n",
    "        self.dinputs = dvalues * (1 - self.output) * self.output"
   ]
  },
  {
   "cell_type": "code",
   "execution_count": 631,
   "id": "0d1d9c9c",
   "metadata": {},
   "outputs": [],
   "source": [
    "class Activation_Softmax:\n",
    "    \n",
    "    # Forward pass\n",
    "    def forward(self, inputs):\n",
    "        # Remember input values\n",
    "        self.inputs = inputs\n",
    "        \n",
    "        # Get unnormalized probabilities\n",
    "        exp_values = np.exp(inputs - np.max(inputs, axis=1, keepdims=True))\n",
    "        \n",
    "        # Normalize them for each sample\n",
    "        probabilities = exp_values / np.sum(exp_values, axis=1, keepdims=True)\n",
    "        \n",
    "        self.output = probabilities     \n",
    "\n",
    "    # Backward pass\n",
    "    def backward(self, dvalues):\n",
    "        # Create uninitialized array\n",
    "        self.dinputs = np.empty_like(dvalues)\n",
    "\n",
    "        # Enumerate outputs and gradients\n",
    "        for index, (single_output, single_dvalues) in enumerate(zip(self.output, dvalues)):\n",
    "            # Flatten output array\n",
    "            single_output = single_output.reshape(-1, 1)\n",
    "\n",
    "            # Calculate Jacobian matrix of the output and\n",
    "            jacobian_matrix = np.diagflat(single_output) - np.dot(single_output, single_output.T)\n",
    "\n",
    "            # Calculate sample-wise gradient\n",
    "            # and add it to the array of sample gradients\n",
    "            self.dinputs[index] = np.dot(jacobian_matrix, single_dvalues)"
   ]
  },
  {
   "cell_type": "code",
   "execution_count": 632,
   "id": "617aa9d5",
   "metadata": {},
   "outputs": [],
   "source": [
    "class Loss:\n",
    "    \n",
    "    # Calculates the data and regularization losses\n",
    "    # given model output and ground truth values\n",
    "    def calculate(self, output, y):\n",
    "        \n",
    "        # Calculate sample losses\n",
    "        sample_losses = self.forward(output, y)\n",
    "        \n",
    "        # Calculate mean loss\n",
    "        data_loss = np.mean(sample_losses)\n",
    "        \n",
    "        # Return loss\n",
    "        return data_loss"
   ]
  },
  {
   "cell_type": "code",
   "execution_count": 633,
   "id": "46f173e0",
   "metadata": {},
   "outputs": [],
   "source": [
    "class Loss_CategoricalCrossentropy(Loss):\n",
    "    \n",
    "    # Forward pass\n",
    "    def forward(self, y_pred, y_true):\n",
    "        # Number of samples in a batch\n",
    "        samples = len(y_pred)\n",
    "        \n",
    "        # Clip data to prevent division by 0\n",
    "        # Clip both sides to not drag mean towards any value\n",
    "        y_pred_clipped = np.clip(y_pred, 1e-7, 1 - 1e-7)\n",
    "        \n",
    "        # Probabilities for target values - only if categorical labels\n",
    "        correct_confidences = y_pred_clipped[range(samples), y_true]\n",
    "        \n",
    "        # Losses\n",
    "        negative_log_likelihoods = -np.log(correct_confidences)\n",
    "        \n",
    "        return negative_log_likelihoods\n",
    "    \n",
    "    # Backward pass\n",
    "    def backward(self, dvalues, y_true):\n",
    "        \n",
    "        # Number of samples\n",
    "        samples = len(dvalues)\n",
    "        \n",
    "        # Number of labels in every sample\n",
    "        # We'll use the first sample to count them\n",
    "        labels = len(dvalues[0])\n",
    "        \n",
    "        # Turn labels into one-hot vector\n",
    "        y_true_one_hot = np.eye(labels)[y_true]\n",
    "        \n",
    "        # Calculate gradient\n",
    "        self.dinputs = -y_true_one_hot / (dvalues + 1e-15)\n",
    "        \n",
    "        # Normalize gradient\n",
    "        self.dinputs = self.dinputs / samples"
   ]
  },
  {
   "cell_type": "code",
   "execution_count": 634,
   "id": "fcf9b5c0",
   "metadata": {},
   "outputs": [],
   "source": [
    "class Loss_MeanSquaredError(Loss):\n",
    "    \n",
    "    # Forward pass\n",
    "    def forward(self, y_pred, y_true):\n",
    "        # Calculate loss\n",
    "        sample_losses = np.mean((y_true - y_pred)**2, axis=-1)\n",
    "        \n",
    "        # Return losses\n",
    "        return sample_losses\n",
    "    \n",
    "    # Backward pass\n",
    "    def backward(self, dvalues, y_true):        \n",
    "        # Number of samples\n",
    "        samples = len(dvalues)\n",
    "        \n",
    "        # Number of outputs in every sample\n",
    "        # We'll use the first sample to count them\n",
    "        outputs = len(dvalues[0])\n",
    "        \n",
    "        # Gradient on values\n",
    "        self.dinputs = -2 * (y_true - dvalues) / outputs\n",
    "        \n",
    "        # Normalize gradient\n",
    "        self.dinputs = self.dinputs / samples"
   ]
  },
  {
   "cell_type": "markdown",
   "id": "033ffe6c",
   "metadata": {},
   "source": [
    "`Optimizers`"
   ]
  },
  {
   "cell_type": "code",
   "execution_count": 635,
   "id": "04ed5cc8",
   "metadata": {},
   "outputs": [],
   "source": [
    "class Optimizer_SGD:\n",
    "    \n",
    "    def __init__(self, learning_rate=1.0, decay=0.0, momentum=0.0):\n",
    "        self.learning_rate = learning_rate\n",
    "        self.decay = decay\n",
    "        self.momentum = momentum\n",
    "        self.iterations = 0\n",
    "        self.current_learning_rate = learning_rate\n",
    "    \n",
    "    def pre_update_params(self):\n",
    "        if self.decay:\n",
    "            self.current_learning_rate = \\\n",
    "                self.learning_rate * (1.0 / (1.0 + (self.decay * self.iterations)))\n",
    "    \n",
    "    def update_params(self, layer):\n",
    "        if self.momentum:\n",
    "            if not hasattr(layer, 'weight_momentums'):\n",
    "                layer.weight_momentums = np.zeros_like(layer.weights)\n",
    "                layer.bias_momentums = np.zeros_like(layer.biases)\n",
    "            \n",
    "            weight_updates = \\\n",
    "                self.momentum * layer.weight_momentums - \\\n",
    "                (self.current_learning_rate * layer.dweights)\n",
    "            \n",
    "            bias_updates = \\\n",
    "                self.momentum * layer.bias_momentums - \\\n",
    "                (self.current_learning_rate * layer.dbiases)\n",
    "            \n",
    "            layer.weight_momentums = weight_updates\n",
    "            layer.bias_momentums = bias_updates\n",
    "        else:\n",
    "            weight_updates = -self.current_learning_rate * layer.dweights\n",
    "            bias_updates = -self.current_learning_rate * layer.dbiases\n",
    "        \n",
    "        layer.weights += weight_updates\n",
    "        layer.biases += bias_updates\n",
    "    \n",
    "    def post_update_params(self):\n",
    "        self.iterations += 1"
   ]
  },
  {
   "cell_type": "code",
   "execution_count": 636,
   "id": "53d08d8c",
   "metadata": {},
   "outputs": [],
   "source": [
    "class Optimizer_Adagrad:\n",
    "    \n",
    "    # Initialize optimizer - set settings\n",
    "    def __init__(self, learning_rate=1., decay=0., epsilon=1e-7):\n",
    "        self.learning_rate = learning_rate\n",
    "        self.current_learning_rate = learning_rate\n",
    "        self.decay = decay\n",
    "        self.iterations = 0\n",
    "        self.epsilon = epsilon\n",
    "        \n",
    "    # Call once before any parameter updates\n",
    "    def pre_update_params(self):\n",
    "        if self.decay:\n",
    "            self.current_learning_rate = self.learning_rate * \\\n",
    "                (1. / (1. + self.decay * self.iterations))\n",
    "            \n",
    "    # Update parameters\n",
    "    def update_params(self, layer):\n",
    "        # If layer does not contain cache arrays,\n",
    "        # create them filled with zeros\n",
    "        if not hasattr(layer, 'weight_cache'):\n",
    "            layer.weight_cache = np.zeros_like(layer.weights)\n",
    "            layer.bias_cache = np.zeros_like(layer.biases)\n",
    "\n",
    "        # Update cache with squared current gradients\n",
    "        layer.weight_cache += layer.dweights**2\n",
    "        layer.bias_cache += layer.dbiases**2\n",
    "\n",
    "        # Vanilla SGD parameter update + normalization\n",
    "        # with square rooted cache\n",
    "        layer.weights += -self.current_learning_rate * layer.dweights / \\\n",
    "            (np.sqrt(layer.weight_cache) + self.epsilon)\n",
    "\n",
    "        layer.biases += -self.current_learning_rate * layer.dbiases / \\\n",
    "            (np.sqrt(layer.bias_cache) + self.epsilon)\n",
    "\n",
    "    # Call once after any parameter updates\n",
    "    def post_update_params(self):\n",
    "        self.iterations += 1"
   ]
  },
  {
   "cell_type": "code",
   "execution_count": 637,
   "id": "9f2eafc5",
   "metadata": {},
   "outputs": [],
   "source": [
    "class Optimizer_RMSprop:\n",
    "    \n",
    "    # Initialize optimizer - set settings\n",
    "    def __init__(self, learning_rate=0.001, decay=0., epsilon=1e-7, rho=0.9):\n",
    "        self.learning_rate = learning_rate\n",
    "        self.current_learning_rate = learning_rate\n",
    "        self.decay = decay\n",
    "        self.iterations = 0\n",
    "        self.epsilon = epsilon\n",
    "        self.rho = rho\n",
    "        \n",
    "    # Call once before any parameter updates\n",
    "    def pre_update_params(self):\n",
    "        if self.decay:\n",
    "            self.current_learning_rate = self.learning_rate * \\\n",
    "                (1. / (1. + self.decay * self.iterations))\n",
    "\n",
    "    # Update parameters\n",
    "    def update_params(self, layer):\n",
    "        # If layer does not contain cache arrays,\n",
    "        # create them filled with zeros\n",
    "        if not hasattr(layer, 'weight_cache'):\n",
    "            layer.weight_cache = np.zeros_like(layer.weights)\n",
    "            layer.bias_cache = np.zeros_like(layer.biases)\n",
    "            \n",
    "        # Update cache with squared current gradients\n",
    "        layer.weight_cache = self.rho * layer.weight_cache + \\\n",
    "            (1 - self.rho) * layer.dweights**2\n",
    "        \n",
    "        layer.bias_cache = self.rho * layer.bias_cache + \\\n",
    "            (1 - self.rho) * layer.dbiases**2\n",
    "        \n",
    "        # Vanilla SGD parameter update + normalization\n",
    "        # with square rooted cache\n",
    "        layer.weights += -self.current_learning_rate * layer.dweights / \\\n",
    "            (np.sqrt(layer.weight_cache) + self.epsilon)\n",
    "\n",
    "        layer.biases += -self.current_learning_rate * layer.dbiases / \\\n",
    "            (np.sqrt(layer.bias_cache) + self.epsilon)\n",
    "        \n",
    "    # Call once after any parameter updates\n",
    "    def post_update_params(self):\n",
    "        self.iterations += 1"
   ]
  },
  {
   "cell_type": "code",
   "execution_count": 638,
   "id": "c3ffd952",
   "metadata": {},
   "outputs": [],
   "source": [
    "class Optimizer_Adam:\n",
    "    \n",
    "    # Initialize optimizer - set settings\n",
    "    def __init__(self, learning_rate=0.001, decay=0., epsilon=1e-7,\n",
    "        beta_1=0.9, beta_2=0.999):\n",
    "        self.learning_rate = learning_rate\n",
    "        self.current_learning_rate = learning_rate\n",
    "        self.decay = decay\n",
    "        self.iterations = 0\n",
    "        self.epsilon = epsilon\n",
    "        self.beta_1 = beta_1\n",
    "        self.beta_2 = beta_2\n",
    "        \n",
    "    # Call once before any parameter updates\n",
    "    def pre_update_params(self):\n",
    "        if self.decay:\n",
    "            self.current_learning_rate = self.learning_rate * \\\n",
    "                (1. / (1. + self.decay * self.iterations))\n",
    "    \n",
    "    # Update parameters\n",
    "    def update_params(self, layer):\n",
    "        # If layer does not contain cache arrays,\n",
    "        # create them filled with zeros\n",
    "        if not hasattr(layer, 'weight_cache'):\n",
    "            layer.weight_momentums = np.zeros_like(layer.weights)\n",
    "            layer.weight_cache = np.zeros_like(layer.weights)\n",
    "            layer.bias_momentums = np.zeros_like(layer.biases)\n",
    "            layer.bias_cache = np.zeros_like(layer.biases)\n",
    "        \n",
    "        # Update momentum with current gradients\n",
    "        layer.weight_momentums = self.beta_1 * layer.weight_momentums + \\\n",
    "            (1 - self.beta_1) * layer.dweights\n",
    "        \n",
    "        layer.bias_momentums = self.beta_1 * layer.bias_momentums + \\\n",
    "            (1 - self.beta_1) * layer.dbiases\n",
    "        \n",
    "        # Get corrected momentum\n",
    "        # self.iteration is 0 at first pass\n",
    "        # and we need to start with 1 here\n",
    "        weight_momentums_corrected = layer.weight_momentums / \\\n",
    "            (1 - self.beta_1 ** (self.iterations + 1))\n",
    "        \n",
    "        bias_momentums_corrected = layer.bias_momentums / \\\n",
    "            (1 - self.beta_1 ** (self.iterations + 1))\n",
    "        \n",
    "        # Update cache with squared current gradients\n",
    "        layer.weight_cache = self.beta_2 * layer.weight_cache + \\\n",
    "            (1 - self.beta_2) * layer.dweights**2\n",
    "        \n",
    "        layer.bias_cache = self.beta_2 * layer.bias_cache + \\\n",
    "            (1 - self.beta_2) * layer.dbiases**2\n",
    "        \n",
    "        # Get corrected cache\n",
    "        weight_cache_corrected = layer.weight_cache / \\\n",
    "            (1 - self.beta_2 ** (self.iterations + 1))\n",
    "        \n",
    "        bias_cache_corrected = layer.bias_cache / \\\n",
    "            (1 - self.beta_2 ** (self.iterations + 1))\n",
    "        \n",
    "        # Vanilla SGD parameter update + normalization\n",
    "        # with square rooted cache\n",
    "        layer.weights += -self.current_learning_rate * \\\n",
    "            weight_momentums_corrected / \\\n",
    "            (np.sqrt(weight_cache_corrected) + self.epsilon)\n",
    "        \n",
    "        layer.biases += -self.current_learning_rate * \\\n",
    "            bias_momentums_corrected / \\\n",
    "            (np.sqrt(bias_cache_corrected) + self.epsilon)\n",
    "    \n",
    "    # Call once after any parameter updates\n",
    "    def post_update_params(self):\n",
    "        self.iterations += 1"
   ]
  },
  {
   "cell_type": "markdown",
   "id": "a15d9eb4",
   "metadata": {},
   "source": [
    "# `MNIST dataset`\n",
    "___"
   ]
  },
  {
   "cell_type": "raw",
   "id": "12b17df7",
   "metadata": {},
   "source": [
    "mnist = fetch_openml('mnist_784')"
   ]
  },
  {
   "cell_type": "code",
   "execution_count": 379,
   "id": "f892a9cd",
   "metadata": {},
   "outputs": [
    {
     "data": {
      "text/plain": [
       "((70000, 784), (70000,))"
      ]
     },
     "execution_count": 379,
     "metadata": {},
     "output_type": "execute_result"
    }
   ],
   "source": [
    "mnist.data.shape, mnist.target.shape"
   ]
  },
  {
   "cell_type": "raw",
   "id": "2d225687",
   "metadata": {},
   "source": [
    "data = np.array(mnist.data.copy())\n",
    "target = np.array(mnist.target.copy())\n",
    "target = np.array([int(label) for label in target])\n",
    "\n",
    "x_train, x_test, y_train, y_test = \\\n",
    "    train_test_split(\n",
    "        data,\n",
    "        target,\n",
    "        test_size=0.33,\n",
    "        random_state=42)"
   ]
  },
  {
   "cell_type": "code",
   "execution_count": 380,
   "id": "6fe1ac48",
   "metadata": {},
   "outputs": [
    {
     "data": {
      "text/plain": [
       "((46900, 784), (46900,))"
      ]
     },
     "execution_count": 380,
     "metadata": {},
     "output_type": "execute_result"
    }
   ],
   "source": [
    "x_train.shape, y_train.shape"
   ]
  },
  {
   "cell_type": "code",
   "execution_count": 381,
   "id": "cdb28df7",
   "metadata": {},
   "outputs": [
    {
     "data": {
      "text/plain": [
       "((23100, 784), (23100,))"
      ]
     },
     "execution_count": 381,
     "metadata": {},
     "output_type": "execute_result"
    }
   ],
   "source": [
    "x_test.shape, y_test.shape"
   ]
  },
  {
   "cell_type": "markdown",
   "id": "035f425a",
   "metadata": {},
   "source": [
    "# `PyTorch on MNIST`\n",
    "___"
   ]
  },
  {
   "cell_type": "code",
   "execution_count": 639,
   "id": "249f6255",
   "metadata": {},
   "outputs": [],
   "source": [
    "def init_train_torch_mnist(\n",
    "    W1, W2, W3,\n",
    "    B1, B2, B3,\n",
    "    x_train,\n",
    "    y_train,\n",
    "    x_test,\n",
    "    y_test,\n",
    "    lr,\n",
    "    batch_size,\n",
    "    epochs):\n",
    "    \n",
    "    losses, accs = [], []\n",
    "    \n",
    "    model = nn.Sequential(\n",
    "                nn.Linear(784, 64),\n",
    "                nn.ReLU(),\n",
    "                nn.Linear(64, 64),\n",
    "                nn.ReLU(),\n",
    "                nn.Linear(64, 10),\n",
    "                #nn.Softmax(dim=1)\n",
    "            )\n",
    "    \n",
    "    model[0].weight.data = torch.Tensor(W1.T)\n",
    "    model[0].bias.data = torch.Tensor(B1.reshape(-1, ))\n",
    "\n",
    "    model[2].weight.data = torch.Tensor(W2.T)\n",
    "    model[2].bias.data = torch.Tensor(B2.reshape(-1, ))\n",
    "\n",
    "    model[4].weight.data = torch.Tensor(W3.T)\n",
    "    model[4].bias.data = torch.Tensor(B3.reshape(-1, ))\n",
    "    \n",
    "    loss = nn.CrossEntropyLoss()\n",
    "    \n",
    "    # optimizer = torch.optim.SGD(model.parameters(), lr=lr, momentum=0)\n",
    "    # optimizer = torch.optim.Adagrad(model.parameters(), lr=lr, eps=1e-7)\n",
    "    # optimizer = torch.optim.RMSprop(model.parameters(), lr=lr, eps=1e-7, alpha=0.9)\n",
    "    optimizer = torch.optim.Adam(model.parameters(), lr=lr, eps=1e-7, betas=(0.9, 0.8))\n",
    "    \n",
    "    #------------------------------------------------------------------#\n",
    "    \n",
    "    for _ in range(epochs):\n",
    "        counter = 0\n",
    "        while True:\n",
    "            features = x_train[batch_size * counter:batch_size * (counter + 1), :] \n",
    "            labels = y_train[batch_size * counter:batch_size * (counter + 1)]\n",
    "\n",
    "            if features.shape[0] == 0:\n",
    "                break\n",
    "\n",
    "            #--------------#\n",
    "            optimizer.zero_grad()\n",
    "            outputs = model(features)\n",
    "            loss_found = loss(outputs, labels)\n",
    "            loss_found.backward()\n",
    "            \n",
    "            optimizer.step()\n",
    "            #--------------#\n",
    "\n",
    "            if (features.shape[0] < batch_size) or (features.shape[0] == x_train.shape[0]):\n",
    "                break\n",
    "\n",
    "            counter += 1\n",
    "\n",
    "        with torch.no_grad():\n",
    "            outputs = model(x_test)\n",
    "            loss_found = loss(outputs, y_test)\n",
    "\n",
    "            losses += [loss_found.item()]\n",
    "            accs += [((np.argmax(outputs, axis=1)) == y_test).numpy().mean()]\n",
    "            \n",
    "    return losses, accs"
   ]
  },
  {
   "cell_type": "markdown",
   "id": "2e67163d",
   "metadata": {},
   "source": [
    "# `TensorFlow on MNIST`\n",
    "___"
   ]
  },
  {
   "cell_type": "code",
   "execution_count": 640,
   "id": "34aab4e5",
   "metadata": {},
   "outputs": [],
   "source": [
    "def init_train_tensorflow_mnist(\n",
    "    W1, W2, W3,\n",
    "    B1, B2, B3,\n",
    "    x_train,\n",
    "    y_train,\n",
    "    x_test,\n",
    "    y_test,\n",
    "    lr,\n",
    "    batch_size,\n",
    "    epochs):\n",
    "    \n",
    "    losses, accs = [], []\n",
    "    \n",
    "    model = keras.Sequential([\n",
    "        keras.layers.Dense(64, input_shape=(784,), activation='relu'),\n",
    "        keras.layers.Dense(64, input_shape=(64,), activation='relu'),\n",
    "        keras.layers.Dense(10, input_shape=(64,), activation='softmax')\n",
    "    ])\n",
    "    \n",
    "    model.layers[0].set_weights([W1, B1.reshape(-1, )])\n",
    "    model.layers[1].set_weights([W2, B2.reshape(-1, )])\n",
    "    model.layers[2].set_weights([W3, B3.reshape(-1, )])\n",
    "    \n",
    "    loss = keras.losses.CategoricalCrossentropy()\n",
    "    \n",
    "    # optimizer = keras.optimizers.SGD(learning_rate=lr, momentum=0)\n",
    "    # optimizer = keras.optimizers.Adagrad(learning_rate=lr, epsilon=1e-7, initial_accumulator_value=0)\n",
    "    # optimizer = keras.optimizers.RMSprop(learning_rate=lr, epsilon=1e-7, rho=0.9)\n",
    "    optimizer = keras.optimizers.Adam(learning_rate=lr, epsilon=1e-7, beta_1=0.9, beta_2=0.8)\n",
    "    \n",
    "    #-----------------------------------------------------------------#\n",
    "    \n",
    "    model.compile(optimizer=optimizer, loss=loss, metrics=['accuracy'])    \n",
    "    \n",
    "    for _ in range(epochs):\n",
    "        model.fit(x_train, y_train, epochs=1, batch_size=batch_size, verbose=0)\n",
    "\n",
    "        losses += [np.mean(loss.call(y_test, model.predict(x_test)))]\n",
    "        accs += [(np.argmax(model.predict(x_test), axis=1) == np.argmax(y_test, axis=1)).mean()]\n",
    "        \n",
    "    return losses, accs"
   ]
  },
  {
   "cell_type": "markdown",
   "id": "01988bb1",
   "metadata": {},
   "source": [
    "# `ONN on MNIST`\n",
    "___"
   ]
  },
  {
   "cell_type": "code",
   "execution_count": 641,
   "id": "597080fb",
   "metadata": {},
   "outputs": [],
   "source": [
    "def init_train_onn_mnist(\n",
    "    W1, W2, W3,\n",
    "    B1, B2, B3,\n",
    "    x_train,\n",
    "    y_train,\n",
    "    x_test,\n",
    "    y_test,\n",
    "    lr,\n",
    "    batch_size,\n",
    "    epochs):\n",
    "    \n",
    "    losses, accs = [], []\n",
    "    \n",
    "    model = [\n",
    "        Layer_Dense(784, 64),\n",
    "        Activation_ReLU(),\n",
    "        Layer_Dense(64, 64),\n",
    "        Activation_ReLU(),\n",
    "        Layer_Dense(64, 10),\n",
    "        Activation_Softmax()\n",
    "    ]\n",
    "    \n",
    "    model[0].weights = W1.copy()\n",
    "    model[0].biases = B1.copy()\n",
    "\n",
    "    model[2].weights = W2.copy()\n",
    "    model[2].biases = B2.copy()\n",
    "\n",
    "    model[4].weights = W3.copy()\n",
    "    model[4].biases = B3.copy()\n",
    "    \n",
    "    loss = Loss_CategoricalCrossentropy()\n",
    "    \n",
    "    # optimizer = Optimizer_SGD(learning_rate=lr, momentum=0)\n",
    "    # optimizer = Optimizer_Adagrad(learning_rate=lr, epsilon=1e-7)\n",
    "    # optimizer = Optimizer_RMSprop(learning_rate=lr, decay=0, epsilon=1e-7, rho=0.9)\n",
    "    optimizer = Optimizer_Adam(learning_rate=lr, decay=0, epsilon=1e-7, beta_1=0.9, beta_2=0.8)\n",
    "    #-------------------------------------------------------#\n",
    "    \n",
    "    for _ in range(epochs):\n",
    "        # Training\n",
    "        counter = 0\n",
    "        while True:\n",
    "            features = x_train[batch_size * counter:batch_size * (counter + 1), :] \n",
    "            labels = y_train[batch_size * counter:batch_size * (counter + 1)]\n",
    "\n",
    "            if features.shape[0] == 0:\n",
    "                break\n",
    "\n",
    "            #-------Forward pass-------#\n",
    "            outputs = features.copy()\n",
    "\n",
    "            for layer in model:\n",
    "                layer.forward(outputs)\n",
    "                outputs = layer.output\n",
    "            #-------Forward pass-------#\n",
    "\n",
    "            #-------Backward pass-------#\n",
    "            loss.backward(outputs, labels)\n",
    "            inputs = loss.dinputs\n",
    "\n",
    "            for layer in reversed(model):\n",
    "                layer.backward(inputs)\n",
    "                inputs = layer.dinputs\n",
    "            #-------Backward pass-------#\n",
    "\n",
    "            #-------Weights, biases and lr updates -------#\n",
    "            optimizer.pre_update_params()\n",
    "\n",
    "            for layer in model:\n",
    "                if hasattr(layer, 'dweights'):\n",
    "                    optimizer.update_params(layer)\n",
    "\n",
    "            optimizer.post_update_params()\n",
    "            #-------Weights, biases and lr updates -------#\n",
    "\n",
    "            if (features.shape[0] < batch_size) or (features.shape[0] == x_train.shape[0]):\n",
    "                break\n",
    "\n",
    "            counter += 1\n",
    "\n",
    "        # Testing\n",
    "        outputs = x_test.copy()\n",
    "\n",
    "        for layer in model:\n",
    "            layer.forward(outputs)\n",
    "            outputs = layer.output\n",
    "\n",
    "        losses += [loss.calculate(outputs, y_test)]\n",
    "        accs += [(np.argmax(outputs, axis=1) == y_test).mean()]\n",
    "        \n",
    "    return losses, accs"
   ]
  },
  {
   "cell_type": "markdown",
   "id": "3d1ba998",
   "metadata": {},
   "source": [
    "# `Testing on MNIST`\n",
    "___"
   ]
  },
  {
   "cell_type": "code",
   "execution_count": 439,
   "id": "698aa3ff",
   "metadata": {},
   "outputs": [],
   "source": [
    "LR = 1e-3\n",
    "BATCH = 512\n",
    "EPOCHS = 8\n",
    "SEEDS = [1, 13, 508, 362, 5702]"
   ]
  },
  {
   "cell_type": "code",
   "execution_count": 440,
   "id": "16f015cd",
   "metadata": {},
   "outputs": [
    {
     "name": "stderr",
     "output_type": "stream",
     "text": [
      "100%|████████████████████████████████████████████████████████████████████████████████████| 5/5 [02:46<00:00, 33.31s/it]\n"
     ]
    }
   ],
   "source": [
    "B1 = np.zeros((1, 64))\n",
    "B2 = np.zeros((1, 64))\n",
    "B3 = np.zeros((1, 10))\n",
    "\n",
    "L_ONN, L_TF, L_PT = [], [], []\n",
    "A_ONN, A_TF, A_PT = [], [], []\n",
    "\n",
    "for S in tqdm(SEEDS):\n",
    "    np.random.seed(S)\n",
    "\n",
    "    W1 = 0.01 * np.random.randn(784, 64)\n",
    "    W2 = 0.01 * np.random.randn(64, 64)\n",
    "    W3 = 0.01 * np.random.randn(64, 10)\n",
    "    \n",
    "    #_________________________________#\n",
    "    \n",
    "    losses_tensorflow, accs_tensorflow = \\\n",
    "        init_train_tensorflow_mnist(\n",
    "            W1, W2, W3, B1, B2, B3,\n",
    "            x_train,\n",
    "            LabelBinarizer().fit_transform(y_train),\n",
    "            x_test,\n",
    "            LabelBinarizer().fit_transform(y_test),\n",
    "            lr=LR,\n",
    "            batch_size=BATCH,\n",
    "            epochs=EPOCHS)\n",
    "    \n",
    "    L_TF += [losses_tensorflow]\n",
    "    A_TF += [accs_tensorflow]\n",
    "    \n",
    "    losses_onn, accs_onn = \\\n",
    "        init_train_onn_mnist(\n",
    "            W1, W2, W3, B1, B2, B3,\n",
    "            x_train,\n",
    "            y_train,\n",
    "            x_test,\n",
    "            y_test,\n",
    "            lr=LR,\n",
    "            batch_size=BATCH,\n",
    "            epochs=EPOCHS)\n",
    "    \n",
    "    L_ONN += [losses_onn]\n",
    "    A_ONN += [accs_onn]\n",
    "    \n",
    "    losses_torch, accs_torch = \\\n",
    "        init_train_torch_mnist(\n",
    "            W1, W2, W3, B1, B2, B3,\n",
    "            torch.tensor(x_train.astype(np.float32)),\n",
    "            torch.tensor(y_train.astype(np.int64)),\n",
    "            torch.tensor(x_test.astype(np.float32)),\n",
    "            torch.tensor(y_test.astype(np.int64)),\n",
    "            lr=LR,\n",
    "            batch_size=BATCH,\n",
    "            epochs=EPOCHS)\n",
    "    \n",
    "    L_PT += [losses_torch]\n",
    "    A_PT += [accs_torch]"
   ]
  },
  {
   "cell_type": "markdown",
   "id": "8604508e",
   "metadata": {},
   "source": [
    "# `Visualizing on MNIST`\n",
    "___"
   ]
  },
  {
   "cell_type": "code",
   "execution_count": 445,
   "id": "ca626ad3",
   "metadata": {},
   "outputs": [
    {
     "data": {
      "image/png": "[encoded data removed]",
      "text/plain": [
       "<Figure size 1152x360 with 2 Axes>"
      ]
     },
     "metadata": {
      "needs_background": "light"
     },
     "output_type": "display_data"
    }
   ],
   "source": [
    "alpha = 0.1\n",
    "linewidth = 2\n",
    "\n",
    "with plt.style.context('bmh'):\n",
    "    fig, axs = plt.subplots(1, 2, figsize=(16, 5))\n",
    "\n",
    "    #-----------------Loss-----------------#\n",
    "    r = range(1, EPOCHS + 1)\n",
    "    \n",
    "    for i in range(len(SEEDS)):\n",
    "        axs[0].plot(r, L_ONN[i], linestyle='--', alpha=alpha, linewidth=linewidth, color='red')\n",
    "        axs[0].plot(r, L_PT[i], linestyle='--', alpha=alpha, linewidth=linewidth, color='green')\n",
    "        axs[0].plot(r, L_TF[i], linestyle='--', alpha=alpha, linewidth=linewidth, color='blue')\n",
    "        \n",
    "    axs[0].plot(r, np.array(L_TF).mean(axis=0), color='blue', label='TensorFlow', alpha=0.8, linewidth=4)\n",
    "    axs[0].plot(r, np.array(L_PT).mean(axis=0), color='green', label='PyTorch', alpha=0.8, linewidth=4)\n",
    "    axs[0].plot(r, np.array(L_ONN).mean(axis=0), color='red', label='ONN', alpha=0.6, linewidth=4)\n",
    "        \n",
    "    plt.xticks(r)\n",
    "    axs[0].set_xlabel('epochs', fontsize=14)\n",
    "    axs[0].set_ylabel('loss', fontsize=14)\n",
    "\n",
    "    axs[0].legend(fontsize=14)\n",
    "#-----------------Loss-----------------#\n",
    "\n",
    "#-----------------Accuracy-----------------#\n",
    "    for i in range(len(SEEDS)):\n",
    "        axs[1].plot(r, A_ONN[i], linestyle='--', alpha=alpha, linewidth=linewidth, color='red')\n",
    "        axs[1].plot(r, A_PT[i], linestyle='--', alpha=alpha, linewidth=linewidth, color='green')\n",
    "        axs[1].plot(r, A_TF[i], linestyle='--', alpha=alpha, linewidth=linewidth, color='blue')\n",
    "        \n",
    "    axs[1].plot(r, np.array(A_TF).mean(axis=0), color='blue', label='TensorFlow', alpha=0.8, linewidth=4)\n",
    "    axs[1].plot(r, np.array(A_PT).mean(axis=0), color='green', label='PyTorch', alpha=0.8, linewidth=4)\n",
    "    axs[1].plot(r, np.array(A_ONN).mean(axis=0), color='red', label='ONN', alpha=0.6, linewidth=4)\n",
    "        \n",
    "    plt.xticks(r)\n",
    "    axs[1].set_xlabel('epochs', fontsize=14)\n",
    "    axs[1].set_ylabel('accuracy', fontsize=14)\n",
    "\n",
    "    axs[1].legend(fontsize=14)\n",
    "#-----------------Accuracy-----------------#\n",
    "\n",
    "#plt.savefig(\"mnist_test.svg\")\n",
    "plt.show()"
   ]
  },
  {
   "cell_type": "markdown",
   "id": "c2dd620d",
   "metadata": {},
   "source": [
    "`Сравнительная таблица`\n",
    "___"
   ]
  },
  {
   "cell_type": "code",
   "execution_count": 221,
   "id": "cb2fe4fe",
   "metadata": {},
   "outputs": [
    {
     "data": {
      "text/plain": [
       "95.73246753246754"
      ]
     },
     "execution_count": 221,
     "metadata": {},
     "output_type": "execute_result"
    }
   ],
   "source": [
    "np.array(A_ONN)[:, 7].mean() * 100"
   ]
  },
  {
   "cell_type": "code",
   "execution_count": 222,
   "id": "473e3818",
   "metadata": {},
   "outputs": [
    {
     "data": {
      "text/plain": [
       "95.74112554112556"
      ]
     },
     "execution_count": 222,
     "metadata": {},
     "output_type": "execute_result"
    }
   ],
   "source": [
    "np.array(A_PT)[:, 7].mean() * 100"
   ]
  },
  {
   "cell_type": "code",
   "execution_count": 223,
   "id": "1825390e",
   "metadata": {},
   "outputs": [
    {
     "data": {
      "text/plain": [
       "95.73679653679655"
      ]
     },
     "execution_count": 223,
     "metadata": {},
     "output_type": "execute_result"
    }
   ],
   "source": [
    "np.array(A_TF)[:, 7].mean() * 100"
   ]
  },
  {
   "cell_type": "markdown",
   "id": "8464ef03",
   "metadata": {},
   "source": [
    "# `Learing rate delay illustraion`\n",
    "___"
   ]
  },
  {
   "cell_type": "code",
   "execution_count": 642,
   "id": "98a18dc0",
   "metadata": {},
   "outputs": [
    {
     "data": {
      "image/png": "[encoded data removed]",
      "text/plain": [
       "<Figure size 1440x576 with 1 Axes>"
      ]
     },
     "metadata": {
      "needs_background": "light"
     },
     "output_type": "display_data"
    }
   ],
   "source": [
    "iterations = 20\n",
    "learning_rates = []\n",
    "decays = [0, 0.1, 0.25, 0.5, 2]\n",
    "\n",
    "for decay_ in decays:\n",
    "    sgd = Optimizer_SGD(learning_rate=1.0, decay=decay_, momentum=0.0)\n",
    "\n",
    "    learning_rates_decay = [] \n",
    "\n",
    "    for i in range(iterations):\n",
    "        sgd.pre_update_params()\n",
    "        learning_rates_decay += [sgd.current_learning_rate]\n",
    "        sgd.post_update_params()\n",
    "        \n",
    "    learning_rates += [learning_rates_decay]\n",
    "    \n",
    "cnt = 0\n",
    "\n",
    "with plt.style.context('bmh'):\n",
    "    plt.figure(figsize=(20, 8))\n",
    "    for decay_ in decays:\n",
    "        plt.plot(range(iterations), learning_rates[cnt], label='decay={0}'.format(decay_), linewidth=4, alpha=0.8)\n",
    "        plt.xlabel('iterations', fontsize=20)\n",
    "        plt.xticks(range(iterations), fontsize=16)\n",
    "        plt.yticks(fontsize=16)\n",
    "        plt.ylabel('lr', fontsize=20)\n",
    "        plt.legend(fontsize=16)\n",
    "        cnt += 1\n",
    "        \n",
    "    plt.show()"
   ]
  },
  {
   "cell_type": "markdown",
   "id": "31618d53",
   "metadata": {},
   "source": [
    "# `California Housing dataset`\n",
    "___"
   ]
  },
  {
   "cell_type": "code",
   "execution_count": 643,
   "id": "1a8e222a",
   "metadata": {},
   "outputs": [],
   "source": [
    "housing = fetch_california_housing()"
   ]
  },
  {
   "cell_type": "code",
   "execution_count": 644,
   "id": "a45d3f82",
   "metadata": {},
   "outputs": [
    {
     "data": {
      "text/plain": [
       "((20640, 8), (20640,))"
      ]
     },
     "execution_count": 644,
     "metadata": {},
     "output_type": "execute_result"
    }
   ],
   "source": [
    "housing.data.shape, housing.target.shape"
   ]
  },
  {
   "cell_type": "code",
   "execution_count": 645,
   "id": "60d7abf8",
   "metadata": {},
   "outputs": [],
   "source": [
    "data = np.array(housing.data.copy())\n",
    "target = np.array(housing.target.copy())\n",
    "\n",
    "x_train, x_test, y_train, y_test = \\\n",
    "    train_test_split(\n",
    "        data,\n",
    "        target,\n",
    "        test_size=0.2,\n",
    "        random_state=42)"
   ]
  },
  {
   "cell_type": "code",
   "execution_count": 646,
   "id": "c6b03a9f",
   "metadata": {},
   "outputs": [
    {
     "data": {
      "text/plain": [
       "((16512, 8), (16512,))"
      ]
     },
     "execution_count": 646,
     "metadata": {},
     "output_type": "execute_result"
    }
   ],
   "source": [
    "x_train.shape, y_train.shape"
   ]
  },
  {
   "cell_type": "code",
   "execution_count": 647,
   "id": "da167db4",
   "metadata": {},
   "outputs": [
    {
     "data": {
      "text/plain": [
       "((4128, 8), (4128,))"
      ]
     },
     "execution_count": 647,
     "metadata": {},
     "output_type": "execute_result"
    }
   ],
   "source": [
    "x_test.shape, y_test.shape"
   ]
  },
  {
   "cell_type": "markdown",
   "id": "32cb9d23",
   "metadata": {},
   "source": [
    "___"
   ]
  },
  {
   "cell_type": "markdown",
   "id": "baf0dc4f",
   "metadata": {},
   "source": [
    "# `PyTorch on California Housing`\n",
    "___"
   ]
  },
  {
   "cell_type": "code",
   "execution_count": 648,
   "id": "45934da9",
   "metadata": {},
   "outputs": [],
   "source": [
    "def init_train_torch_boston(\n",
    "    W1, W2, W3,\n",
    "    B1, B2, B3,\n",
    "    x_train,\n",
    "    y_train,\n",
    "    x_test,\n",
    "    y_test,\n",
    "    lr,\n",
    "    batch_size,\n",
    "    epochs):\n",
    "    \n",
    "    losses = []\n",
    "    \n",
    "    model = nn.Sequential(\n",
    "                nn.Linear(8, 32),\n",
    "                nn.Sigmoid(),\n",
    "                nn.Linear(32, 64),\n",
    "                nn.Sigmoid(),\n",
    "                nn.Linear(64, 1),\n",
    "            )\n",
    "    \n",
    "    model[0].weight.data = torch.Tensor(W1.T)\n",
    "    model[0].bias.data = torch.Tensor(B1.reshape(-1, ))\n",
    "\n",
    "    model[2].weight.data = torch.Tensor(W2.T)\n",
    "    model[2].bias.data = torch.Tensor(B2.reshape(-1, ))\n",
    "\n",
    "    model[4].weight.data = torch.Tensor(W3.T)\n",
    "    model[4].bias.data = torch.Tensor(B3.reshape(-1, ))\n",
    "    \n",
    "    loss = nn.MSELoss()\n",
    "    \n",
    "    # optimizer = torch.optim.SGD(model.parameters(), lr=lr, momentum=0)\n",
    "    # optimizer = torch.optim.Adagrad(model.parameters(), lr=lr, eps=1e-7)\n",
    "    # optimizer = torch.optim.RMSprop(model.parameters(), lr=lr, eps=1e-7, alpha=0.9)\n",
    "    optimizer = torch.optim.Adam(model.parameters(), lr=lr, eps=1e-7, betas=(0.9, 0.999))\n",
    "    \n",
    "    #------------------------------------------------------------------#\n",
    "    \n",
    "    for _ in range(epochs):\n",
    "        counter = 0\n",
    "        while True:\n",
    "            features = x_train[batch_size * counter:batch_size * (counter + 1), :] \n",
    "            labels = y_train[batch_size * counter:batch_size * (counter + 1)]\n",
    "\n",
    "            if features.shape[0] == 0:\n",
    "                break\n",
    "\n",
    "            #--------------#\n",
    "            optimizer.zero_grad()\n",
    "            outputs = model(features)\n",
    "            loss_found = loss(outputs, labels)\n",
    "            loss_found.backward()\n",
    "            \n",
    "            optimizer.step()\n",
    "            #--------------#\n",
    "\n",
    "            if (features.shape[0] < batch_size) or (features.shape[0] == x_train.shape[0]):\n",
    "                break\n",
    "\n",
    "            counter += 1\n",
    "\n",
    "        with torch.no_grad():\n",
    "            outputs = model(x_test)\n",
    "            loss_found = loss(outputs, y_test)\n",
    "\n",
    "            losses += [loss_found.item()]\n",
    "            \n",
    "    return losses"
   ]
  },
  {
   "cell_type": "markdown",
   "id": "545fba27",
   "metadata": {},
   "source": [
    "# `TensorFlow on California Housing`\n",
    "___"
   ]
  },
  {
   "cell_type": "code",
   "execution_count": 649,
   "id": "e01ded26",
   "metadata": {},
   "outputs": [],
   "source": [
    "def init_train_tensorflow_boston(\n",
    "    W1, W2, W3,\n",
    "    B1, B2, B3,\n",
    "    x_train,\n",
    "    y_train,\n",
    "    x_test,\n",
    "    y_test,\n",
    "    lr,\n",
    "    batch_size,\n",
    "    epochs):\n",
    "    \n",
    "    losses = []\n",
    "    \n",
    "    model = keras.Sequential([\n",
    "        keras.layers.Dense(32, input_shape=(8,), activation='sigmoid'),\n",
    "        keras.layers.Dense(64, input_shape=(32,), activation='sigmoid'),\n",
    "        keras.layers.Dense(1, input_shape=(64,))\n",
    "    ])\n",
    "    \n",
    "    model.layers[0].set_weights([W1, B1.reshape(-1, )])\n",
    "    model.layers[1].set_weights([W2, B2.reshape(-1, )])\n",
    "    model.layers[2].set_weights([W3, B3.reshape(-1, )])\n",
    "    \n",
    "    loss = keras.losses.MeanSquaredError()\n",
    "    \n",
    "    # optimizer = keras.optimizers.SGD(learning_rate=lr, momentum=0)\n",
    "    # optimizer = keras.optimizers.Adagrad(learning_rate=lr, epsilon=1e-7, initial_accumulator_value=0)\n",
    "    # optimizer = keras.optimizers.RMSprop(learning_rate=lr, epsilon=1e-7, rho=0.9)\n",
    "    optimizer = keras.optimizers.Adam(learning_rate=lr, epsilon=1e-7, beta_1=0.9, beta_2=0.999)\n",
    "    \n",
    "    #-----------------------------------------------------------------#\n",
    "    \n",
    "    model.compile(optimizer=optimizer, loss=loss, metrics=['accuracy'])    \n",
    "    \n",
    "    for _ in range(epochs):\n",
    "        model.fit(x_train, y_train, epochs=1, batch_size=batch_size, verbose=0)\n",
    "\n",
    "        losses += [np.mean(loss.call(y_test, model.predict(x_test)))]\n",
    "        \n",
    "    return losses"
   ]
  },
  {
   "cell_type": "markdown",
   "id": "8f4fde5f",
   "metadata": {},
   "source": [
    "# `ONN on California Housing`\n",
    "___"
   ]
  },
  {
   "cell_type": "code",
   "execution_count": 650,
   "id": "10f09b66",
   "metadata": {},
   "outputs": [],
   "source": [
    "def init_train_onn_boston(\n",
    "    W1, W2, W3,\n",
    "    B1, B2, B3,\n",
    "    x_train,\n",
    "    y_train,\n",
    "    x_test,\n",
    "    y_test,\n",
    "    lr,\n",
    "    batch_size,\n",
    "    epochs):\n",
    "    \n",
    "    losses = []\n",
    "    \n",
    "    model = [\n",
    "        Layer_Dense(8, 32),\n",
    "        Activation_Sigmoid(),\n",
    "        Layer_Dense(32, 64),\n",
    "        Activation_Sigmoid(),\n",
    "        Layer_Dense(64, 1)\n",
    "    ]\n",
    "    \n",
    "    model[0].weights = W1.copy()\n",
    "    model[0].biases = B1.copy()\n",
    "\n",
    "    model[2].weights = W2.copy()\n",
    "    model[2].biases = B2.copy()\n",
    "\n",
    "    model[4].weights = W3.copy()\n",
    "    model[4].biases = B3.copy()\n",
    "    \n",
    "    loss = Loss_MeanSquaredError()\n",
    "    \n",
    "    # optimizer = Optimizer_SGD(learning_rate=lr, momentum=0)\n",
    "    # optimizer = Optimizer_Adagrad(learning_rate=lr, epsilon=1e-7)\n",
    "    # optimizer = Optimizer_RMSprop(learning_rate=lr, decay=0, epsilon=1e-7, rho=0.9)\n",
    "    optimizer = Optimizer_Adam(learning_rate=lr, decay=0, epsilon=1e-7, beta_1=0.9, beta_2=0.999)\n",
    "    #-------------------------------------------------------#\n",
    "    \n",
    "    for _ in range(epochs):\n",
    "        # Training\n",
    "        counter = 0\n",
    "        while True:\n",
    "            features = x_train[batch_size * counter:batch_size * (counter + 1), :] \n",
    "            labels = y_train[batch_size * counter:batch_size * (counter + 1)]\n",
    "\n",
    "            if features.shape[0] == 0:\n",
    "                break\n",
    "\n",
    "            #-------Forward pass-------#\n",
    "            outputs = features.copy()\n",
    "\n",
    "            for layer in model:\n",
    "                layer.forward(outputs)\n",
    "                outputs = layer.output\n",
    "            #-------Forward pass-------#\n",
    "            \n",
    "            #-------Backward pass-------#\n",
    "            loss.backward(outputs, labels)\n",
    "            inputs = loss.dinputs\n",
    "\n",
    "            for layer in reversed(model):\n",
    "                layer.backward(inputs)\n",
    "                inputs = layer.dinputs\n",
    "            #-------Backward pass-------#\n",
    "\n",
    "            #-------Weights, biases and lr updates -------#\n",
    "            optimizer.pre_update_params()\n",
    "\n",
    "            for layer in model:\n",
    "                if hasattr(layer, 'dweights'):\n",
    "                    optimizer.update_params(layer)\n",
    "\n",
    "            optimizer.post_update_params()\n",
    "            #-------Weights, biases and lr updates -------#\n",
    "\n",
    "            if (features.shape[0] < batch_size) or (features.shape[0] == x_train.shape[0]):\n",
    "                break\n",
    "\n",
    "            counter += 1\n",
    "\n",
    "        # Testing\n",
    "        outputs = x_test.copy()\n",
    "\n",
    "        for layer in model:\n",
    "            layer.forward(outputs)\n",
    "            outputs = layer.output\n",
    "\n",
    "        losses += [loss.calculate(outputs, y_test)]\n",
    "        \n",
    "    return losses"
   ]
  },
  {
   "cell_type": "markdown",
   "id": "75808127",
   "metadata": {},
   "source": [
    "# `Testing on California Housing`\n",
    "___"
   ]
  },
  {
   "cell_type": "code",
   "execution_count": 684,
   "id": "eb962ed3",
   "metadata": {},
   "outputs": [],
   "source": [
    "LR = 1e-3\n",
    "BATCH = 256\n",
    "EPOCHS = 20\n",
    "SEEDS = [1, 13, 508, 362, 5702]"
   ]
  },
  {
   "cell_type": "code",
   "execution_count": 685,
   "id": "5d1a495b",
   "metadata": {
    "scrolled": true
   },
   "outputs": [
    {
     "name": "stderr",
     "output_type": "stream",
     "text": [
      "  0%|                                                                                            | 0/5 [00:00<?, ?it/s]C:\\Users\\apmil\\AppData\\Local\\Temp/ipykernel_16328/1402231121.py:8: RuntimeWarning: overflow encountered in exp\n",
      "  self.output = 1 / (1 + np.exp(-inputs))\n",
      "100%|████████████████████████████████████████████████████████████████████████████████████| 5/5 [00:57<00:00, 11.55s/it]\n"
     ]
    }
   ],
   "source": [
    "B1 = np.zeros((1, 32))\n",
    "B2 = np.zeros((1, 64))\n",
    "B3 = np.zeros((1, 1))\n",
    "\n",
    "L_ONN, L_TF, L_PT = [], [], []\n",
    "\n",
    "for S in tqdm(SEEDS):\n",
    "    np.random.seed(S)\n",
    "\n",
    "    W1 = 0.01 * np.random.randn(8, 32)\n",
    "    W2 = 0.01 * np.random.randn(32, 64)\n",
    "    W3 = 0.01 * np.random.randn(64, 1)\n",
    "    \n",
    "    #_________________________________#\n",
    "    \n",
    "    losses_tensorflow = \\\n",
    "        init_train_tensorflow_boston(\n",
    "            W1, W2, W3, B1, B2, B3,\n",
    "            x_train, y_train.reshape(-1, 1),\n",
    "            x_test, y_test.reshape(-1, 1),\n",
    "            lr=LR,\n",
    "            batch_size=BATCH,\n",
    "            epochs=EPOCHS)\n",
    "    \n",
    "    L_TF += [losses_tensorflow]\n",
    "    \n",
    "    losses_onn = \\\n",
    "        init_train_onn_boston(\n",
    "            W1, W2, W3, B1, B2, B3,\n",
    "            x_train, y_train.reshape(-1, 1),\n",
    "            x_test, y_test.reshape(-1, 1),\n",
    "            lr=LR,\n",
    "            batch_size=BATCH,\n",
    "            epochs=EPOCHS)\n",
    "    \n",
    "    L_ONN += [losses_onn]\n",
    "    \n",
    "    losses_torch = \\\n",
    "        init_train_torch_boston(\n",
    "            W1, W2, W3, B1, B2, B3,\n",
    "            torch.tensor(x_train.astype(np.float32)), torch.Tensor(y_train.reshape(-1, 1)),\n",
    "            torch.tensor(x_test.astype(np.float32)), torch.Tensor(y_test.reshape(-1, 1)),\n",
    "            lr=LR,\n",
    "            batch_size=BATCH,\n",
    "            epochs=EPOCHS)\n",
    "    \n",
    "    L_PT += [losses_torch]"
   ]
  },
  {
   "cell_type": "markdown",
   "id": "af5b4b5e",
   "metadata": {},
   "source": [
    "# `Visualizing on California Housing`\n",
    "___"
   ]
  },
  {
   "cell_type": "code",
   "execution_count": 698,
   "id": "d59099ef",
   "metadata": {},
   "outputs": [
    {
     "data": {
      "image/png": "[encoded data removed]",
      "text/plain": [
       "<Figure size 432x288 with 1 Axes>"
      ]
     },
     "metadata": {
      "needs_background": "light"
     },
     "output_type": "display_data"
    }
   ],
   "source": [
    "alpha = 0.1\n",
    "linewidth = 2\n",
    "\n",
    "with plt.style.context('bmh'):\n",
    "    #plt.figure(figsize=(14,10))\n",
    "    \n",
    "    #-----------------Loss-----------------#\n",
    "    r = range(1, EPOCHS + 1)\n",
    "    \n",
    "    for i in range(len(SEEDS)):\n",
    "        plt.plot(r, L_ONN[i], linestyle='--', alpha=alpha, linewidth=linewidth, color='red')\n",
    "        plt.plot(r, L_PT[i], linestyle='--', alpha=alpha, linewidth=linewidth, color='green')\n",
    "        plt.plot(r, L_TF[i], linestyle='--', alpha=alpha, linewidth=linewidth, color='blue')\n",
    "        \n",
    "    plt.plot(r, np.array(L_TF).mean(axis=0), color='blue', label='TensorFlow', alpha=0.8, linewidth=4)\n",
    "    plt.plot(r, np.array(L_PT).mean(axis=0), color='green', label='PyTorch', alpha=0.8, linewidth=4)\n",
    "    plt.plot(r, np.array(L_ONN).mean(axis=0), color='red', label='ONN', alpha=0.6, linewidth=4)\n",
    "        \n",
    "    plt.xticks(r)\n",
    "    plt.xlabel('epochs', fontsize=14)\n",
    "    plt.ylabel('loss', fontsize=14)\n",
    "\n",
    "    plt.legend(fontsize=14)\n",
    "#-----------------Loss-----------------#\n",
    "\n",
    "#plt.savefig(\"boston_test.svg\")\n",
    "plt.show()"
   ]
  },
  {
   "cell_type": "code",
   "execution_count": 699,
   "id": "857ea809",
   "metadata": {},
   "outputs": [
    {
     "data": {
      "text/plain": [
       "0.5394558982177763"
      ]
     },
     "execution_count": 699,
     "metadata": {},
     "output_type": "execute_result"
    }
   ],
   "source": [
    "np.array(L_ONN)[:, 19].mean()"
   ]
  },
  {
   "cell_type": "code",
   "execution_count": 700,
   "id": "c12b1948",
   "metadata": {},
   "outputs": [
    {
     "data": {
      "text/plain": [
       "0.547539222240448"
      ]
     },
     "execution_count": 700,
     "metadata": {},
     "output_type": "execute_result"
    }
   ],
   "source": [
    "np.array(L_PT)[:, 19].mean()"
   ]
  },
  {
   "cell_type": "code",
   "execution_count": 701,
   "id": "f43e4a84",
   "metadata": {},
   "outputs": [
    {
     "data": {
      "text/plain": [
       "0.5358044"
      ]
     },
     "execution_count": 701,
     "metadata": {},
     "output_type": "execute_result"
    }
   ],
   "source": [
    "np.array(L_TF)[:, 19].mean()"
   ]
  },
  {
   "cell_type": "markdown",
   "id": "a3c5703e",
   "metadata": {},
   "source": [
    "___"
   ]
  }
 ],
 "metadata": {
  "kernelspec": {
   "display_name": "Python 3 (ipykernel)",
   "language": "python",
   "name": "python3"
  },
  "language_info": {
   "codemirror_mode": {
    "name": "ipython",
    "version": 3
   },
   "file_extension": ".py",
   "mimetype": "text/x-python",
   "name": "python",
   "nbconvert_exporter": "python",
   "pygments_lexer": "ipython3",
   "version": "3.9.7"
  }
 },
 "nbformat": 4,
 "nbformat_minor": 5
}
